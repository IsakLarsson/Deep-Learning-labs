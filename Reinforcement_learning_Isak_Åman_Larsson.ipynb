{
  "nbformat": 4,
  "nbformat_minor": 0,
  "metadata": {
    "colab": {
      "name": "Reinforcement learning Isak Åman Larsson.ipynb",
      "provenance": [],
      "collapsed_sections": [],
      "toc_visible": true,
      "include_colab_link": true
    },
    "kernelspec": {
      "name": "python3",
      "display_name": "Python 3"
    },
    "accelerator": "GPU"
  },
  "cells": [
    {
      "cell_type": "markdown",
      "metadata": {
        "id": "view-in-github",
        "colab_type": "text"
      },
      "source": [
        "<a href=\"https://colab.research.google.com/github/IsakLarsson/Deep-Learning-labs/blob/main/Reinforcement_learning_Isak_%C3%85man_Larsson.ipynb\" target=\"_parent\"><img src=\"https://colab.research.google.com/assets/colab-badge.svg\" alt=\"Open In Colab\"/></a>"
      ]
    },
    {
      "cell_type": "markdown",
      "metadata": {
        "id": "jJWsRTua5yDJ"
      },
      "source": [
        "#Isak Åman Larsson"
      ]
    },
    {
      "cell_type": "markdown",
      "metadata": {
        "id": "8Pjpn6RE5mbu"
      },
      "source": [
        "# Laboration on Reinforcement Learning (RL) for Pole Cart Gym\n",
        "\n",
        "By Tomas Nordström\n",
        "with code from Kalle Prorok\n",
        "\n",
        "This uses the CartPole environment from OpenAI's gym: https://gym.openai.com/ or more specificly: https://github.com/openai/gym/blob/master/gym/envs/classic_control/cartpole.py (Note that this is a Bang-Bang controller with no neutral operation, that is, it either moves left of it moves right in each time step). The original code from a paper by Sutton can be found at http://incompleteideas.net/sutton/book/code/pole.c\n",
        "\n"
      ]
    },
    {
      "cell_type": "markdown",
      "metadata": {
        "id": "JFaTMW9h69ju"
      },
      "source": [
        "**Instruktioner**\n",
        "\n",
        "Du ska nu experimentera med Q-learning för ett miniproblem ”Cart-pole” och försöka få den inverterade pendeln på en vagn att stå upp så länge som möjligt.\n",
        "\n",
        "Plotta hur mycket belöning systemet får för varje episod för att se hur systemet beter sig över tid? Vilka 4 mätvärden ingår i tillståndsinformationen som är grund för om man ska putta vagnen till höger eller vänster? Gör gärna fler experiment med samma parameteruppsättning för att också få en känsla för hur stabila resultaten är. En sammanlagd reward, dvs hur många steg som systemet lyckas få pinnen att fortsätta stå upp, på mer än 180 räknas som mycket bra.\n",
        "\n",
        "Testa med några olika parametervärden, t ex öka antalet episoder för att få en känsla för när resultaten börjar stabilisera sig; öka/minska inlärningstakten; eller t.o.m. öka kvantifieringen av tillståndsrymden (men inte för mycket då det ju gör Q-tabellen rejält mycket större för varje steg). Även Epsilon, som styr hur girig (exploit) den ska vara att ta ett slumpmässigt beslut för sin ”action” kan vara intressant att experimentera med.\n",
        "\n",
        "För att bättre förstå, de troligen mediokra resultaten, ska du även undersöka Q-tabellen efter träningen. Hur mycket av “världen” har systemet utforskat? Vad säger detta om Q-learning som metod och kan du komma på något som skulle förbättra systemets prestanda och stabilitet.\n",
        "\n",
        "Med en anpassning av epsilon och inlärningshastighet över tid (börja högt för att möjliggöra mer utforskning och inlärning till en början och sedan senare minska värdet för att stabilisera) kan förbättra prestandan avsevärt. Se Geron Kapitel 18 \"exploration policies\". Implementera detta (är kanske 4-5 rader kod!) för att se om det hjälper, men se till att jämföra med fallet då dessa parametrar är oföränderliga.\n",
        "\n",
        "**Historik**\n",
        "* 2020-05-06 Initial version \n",
        "* 2020-05-07 Uppdaterade instruktionerna (ersatte fjolårets som glömts kvar)\n",
        "* 2020-12-07 Ersatte argmax med en biblioteksfunktion\n"
      ]
    },
    {
      "cell_type": "markdown",
      "metadata": {
        "id": "PLW1C0msDgvz"
      },
      "source": [
        "# Set up the Colab environment"
      ]
    },
    {
      "cell_type": "markdown",
      "metadata": {
        "id": "MtJrSKuIfkoD"
      },
      "source": [
        "Extra dependencies för att få displayen att fungera\r\n"
      ]
    },
    {
      "cell_type": "code",
      "metadata": {
        "id": "BmKFFx_99GuK"
      },
      "source": [
        "# Select Tensorflow 2.0\n",
        "%tensorflow_version 2.x"
      ],
      "execution_count": 640,
      "outputs": []
    },
    {
      "cell_type": "code",
      "metadata": {
        "colab": {
          "base_uri": "https://localhost:8080/"
        },
        "id": "xqGhuEYvemq_",
        "outputId": "376d3d9b-e36d-4307-dcdc-7e9820435696"
      },
      "source": [
        "!apt-get install -y xvfb x11-utils"
      ],
      "execution_count": 641,
      "outputs": [
        {
          "output_type": "stream",
          "text": [
            "Reading package lists... Done\n",
            "Building dependency tree       \n",
            "Reading state information... Done\n",
            "x11-utils is already the newest version (7.7+3build1).\n",
            "xvfb is already the newest version (2:1.19.6-1ubuntu4.8).\n",
            "0 upgraded, 0 newly installed, 0 to remove and 14 not upgraded.\n"
          ],
          "name": "stdout"
        }
      ]
    },
    {
      "cell_type": "code",
      "metadata": {
        "colab": {
          "base_uri": "https://localhost:8080/"
        },
        "id": "L0YnP4speMqO",
        "outputId": "abba5f04-5b79-46cb-afad-f3dcd78dfe68"
      },
      "source": [
        "pip install -U pyvirtualdisplay"
      ],
      "execution_count": 642,
      "outputs": [
        {
          "output_type": "stream",
          "text": [
            "Requirement already up-to-date: pyvirtualdisplay in /usr/local/lib/python3.6/dist-packages (1.3.2)\n",
            "Requirement already satisfied, skipping upgrade: EasyProcess in /usr/local/lib/python3.6/dist-packages (from pyvirtualdisplay) (0.3)\n"
          ],
          "name": "stdout"
        }
      ]
    },
    {
      "cell_type": "code",
      "metadata": {
        "id": "-aZZYMDSeXFf"
      },
      "source": [
        "import pyvirtualdisplay\r\n",
        "_display = pyvirtualdisplay.Display(visible=False,  # use False with Xvfb\r\n",
        "                                    size=(1400, 900))\r\n",
        "_ = _display.start()"
      ],
      "execution_count": 643,
      "outputs": []
    },
    {
      "cell_type": "code",
      "metadata": {
        "id": "UZAsYhSqsKkn",
        "colab": {
          "base_uri": "https://localhost:8080/"
        },
        "outputId": "abb9eb58-a91f-4d7f-94a5-6a65cf8b1298"
      },
      "source": [
        "# Import needed libraries\n",
        "import tensorflow as tf\n",
        "print('TensorFlow version:', tf.__version__)\n",
        "\n",
        "import tensorflow.keras\n",
        "import tensorflow.keras as keras\n",
        "from tensorflow.keras.models import Sequential\n",
        "from tensorflow.keras.layers import Dense, LSTM, GRU\n",
        "from tensorflow.keras.layers import Conv1D\n",
        "from tensorflow.keras.layers import Dropout, BatchNormalization\n",
        "from tensorflow.keras.layers import Flatten\n",
        "from tensorflow.keras.utils import to_categorical\n",
        "print('Keras version:',tensorflow.keras.__version__)\n",
        "\n",
        "# Helper libraries\n",
        "import os\n",
        "import numpy as np\n",
        "import pandas as pd\n",
        "import cv2\n",
        "import sklearn\n",
        "from sklearn.model_selection import train_test_split\n",
        "from sklearn import metrics\n",
        "from sklearn.preprocessing import MinMaxScaler\n",
        "from numpy import argmax\n",
        "\n",
        "# Matlab plotting\n",
        "import matplotlib\n",
        "import matplotlib.pyplot as plt\n",
        "\n",
        "# For this Lab\n",
        "import random\n",
        "import gym\n",
        "\n",
        "#animation\n",
        "import matplotlib.animation as animation\n",
        "matplotlib.rc('animation', html='jshtml')"
      ],
      "execution_count": 644,
      "outputs": [
        {
          "output_type": "stream",
          "text": [
            "TensorFlow version: 2.4.0\n",
            "Keras version: 2.4.0\n"
          ],
          "name": "stdout"
        }
      ]
    },
    {
      "cell_type": "code",
      "metadata": {
        "id": "efCQHuAwHdVg",
        "colab": {
          "base_uri": "https://localhost:8080/"
        },
        "outputId": "3c897706-9931-4e95-ff02-78a9ee744214"
      },
      "source": [
        "# Test for GPU and determine what GPU we have\n",
        "# Could also use https://github.com/anderskm/gputil\n",
        "import sys\n",
        "if not tf.config.list_physical_devices('GPU'):\n",
        "    print(\"No GPU was detected. CNNs can be very slow without a GPU.\")\n",
        "    IN_COLAB = 'google.colab' in sys.modules\n",
        "    if IN_COLAB:\n",
        "        print(\"Go to Runtime > Change runtime and select a GPU hardware accelerator.\")\n",
        "else:\n",
        "    !nvidia-smi -L"
      ],
      "execution_count": 645,
      "outputs": [
        {
          "output_type": "stream",
          "text": [
            "GPU 0: Tesla T4 (UUID: GPU-b8f5b9a9-3469-1ea0-4f55-bdbffbd940c9)\n"
          ],
          "name": "stdout"
        }
      ]
    },
    {
      "cell_type": "markdown",
      "metadata": {
        "id": "IgTLE5vJnlc6"
      },
      "source": [
        "# The Main RL Code ##"
      ]
    },
    {
      "cell_type": "code",
      "metadata": {
        "id": "yvTzXX5WEapQ"
      },
      "source": [
        "# Define some useful functions\n",
        "def running_mean(x, N=10):\n",
        "    \"\"\" Return the running mean of N element in a list\n",
        "    \"\"\"\n",
        "    cumsum = np.cumsum(np.insert(x, 0, 0)) \n",
        "    return (cumsum[N:] - cumsum[:-N]) / float(N)\n"
      ],
      "execution_count": 646,
      "outputs": []
    },
    {
      "cell_type": "code",
      "metadata": {
        "id": "E16ZIXTxiYBC"
      },
      "source": [
        "# Inspired by RL researchers and written by Kalle Prorok for a Deep Learning Course\n",
        "# Umeå Sweden 2019\n",
        "\n",
        "# A set of parameters that is working well\n",
        "EPISODES       = 20000  # Number of eposides to run, org. val was only 1000, but that is too little\n",
        "EPSILON        = 0.5    # Chance to explore (take a radom step instead of an \"optimal\" one), org val = 0.1\n",
        "GAMMA          = 0.9    # How much previous steps should be rewarded now, discount rate, org val = 0.9\n",
        "LEARNING_RATE  = 0.1   # Learning rate, org val = 0.1\n",
        "DISCRETE_STEPS = 12     # Discretization steps per state variable (aviod odd numbers), org val = 10 \n",
        "\n",
        "# The state space is the four dimensions: x, x_dot, theta, theta_dot\n",
        "def make_state(observation):\n",
        "    \"\"\" Map a 4-dimensional state to a state index\n",
        "    \"\"\"\n",
        "    low = [-4.8, -10., -0.41888, -10.] # ( changed -0.41 into more correct -0.41888 for 24 deg.)\n",
        "    high = [4.8, 10., 0.41888, 10.]\n",
        "    state = 0\n",
        "\n",
        "    for i in range(4):\n",
        "        # State variable, projected to the [0, 1] range\n",
        "        state_variable = (observation[i] - low[i]) / (high[i] - low[i])\n",
        "\n",
        "        # Discretize. A variable having a value of 0.53 will lead to the integer 5,\n",
        "        # for instance.\n",
        "        state_discrete = int(state_variable * DISCRETE_STEPS)\n",
        "        state_discrete = max(0, state_discrete) # should not be needed\n",
        "        state_discrete = min(DISCRETE_STEPS-1, state_discrete)\n",
        "\n",
        "        state *= DISCRETE_STEPS\n",
        "        state += state_discrete\n",
        "        # Make state into a 4 \"digit\" number (between 0 and 9999, if 10 discrete steps)\n",
        "    return state\n"
      ],
      "execution_count": 647,
      "outputs": []
    },
    {
      "cell_type": "code",
      "metadata": {
        "id": "_mmFS7Eii9ok",
        "colab": {
          "base_uri": "https://localhost:8080/"
        },
        "outputId": "be07b915-38ac-42ee-cbf0-769fca609935"
      },
      "source": [
        "# (Compare to https://www.geeksforgeeks.org/q-learning-in-python/ )\n",
        "average_cumulative_reward = 0.0\n",
        "\n",
        "episode_reward = np.zeros(EPISODES)\n",
        "# Create the Gym environment (CartPole)\n",
        "env = gym.make('CartPole-v1')\n",
        "\n",
        "print('Action space is:', env.action_space)\n",
        "print('Observation space is:', env.observation_space)\n",
        "\n",
        "# Q-table for the discretized states, and two actions\n",
        "num_states = DISCRETE_STEPS ** 4\n",
        "qtable = [[0., 0.] for state in range(num_states)]\n",
        "print('Q-table = %.0f x %.0f' % (len(qtable),len(qtable[0]) ))\n",
        "\n",
        "# Loop over episodes\n",
        "# Code to make the training animated\n",
        "# https://stackoverflow.com/questions/52726475/display-openai-gym-in-jupyter-notebook-only\n",
        "for i in range(EPISODES):\n",
        "    state4D = env.reset()\n",
        "    state = make_state(state4D)\n",
        "\n",
        "    terminate = False\n",
        "    cumulative_reward = 0.0\n",
        "\n",
        "    # Loop over time-steps\n",
        "    frames = []\n",
        "    while not terminate:\n",
        "        # Compute what the greedy action for the current state is\n",
        "        #print(state)\n",
        "        qvalues = qtable[state]\n",
        "        greedy_action = argmax(qvalues) #0 el 1\n",
        "\n",
        "        # Sometimes, the agent takes a random action, to explore the environment\n",
        "        if random.random() < EPSILON:\n",
        "            action = random.randrange(2)\n",
        "        else:\n",
        "            action = greedy_action\n",
        "\n",
        "        # Perform the action\n",
        "        next_state, reward, terminate, info = env.step(action)  # info is ignored\n",
        "        next_state = make_state(next_state)\n",
        "        \n",
        "        # Show the simulated environment. A bit difficult to make it work.            \n",
        "        # env.render()\n",
        "        #frames.append(env.render(mode=\"rgb_array\"))\n",
        "\n",
        "        # Update the Q-Table\n",
        "        td_error = reward + GAMMA * max(qtable[next_state]) - qtable[state][action]\n",
        "        qtable[state][action] += LEARNING_RATE * td_error\n",
        "        # Update statistics\n",
        "        cumulative_reward += reward\n",
        "        state = next_state\n",
        "    # store reward for every episode\n",
        "    episode_reward[i] = cumulative_reward\n",
        "    \n",
        "    # Adapt epsilon and learning rate here\n",
        "\n",
        "    if ((i % 500) == 0):\n",
        "      EPSILON = EPSILON / 1.08\n",
        "      LEARNING_RATE = LEARNING_RATE/1.02\n",
        "      print(EPSILON, LEARNING_RATE)\n",
        "\n",
        "    # Per-episode statistics\n",
        "    if ((i % 500)==0):\n",
        "      print(i, cumulative_reward, sep=',')\n",
        "    env.close()"
      ],
      "execution_count": 648,
      "outputs": [
        {
          "output_type": "stream",
          "text": [
            "Action space is: Discrete(2)\n",
            "Observation space is: Box(-3.4028234663852886e+38, 3.4028234663852886e+38, (4,), float32)\n",
            "Q-table = 20736 x 2\n",
            "0.4629629629629629 0.09803921568627451\n",
            "0,12.0\n",
            "0.42866941015089155 0.09611687812379853\n",
            "500,28.0\n",
            "0.39691612051008474 0.09423223345470444\n",
            "1000,93.0\n",
            "0.3675149263982266 0.09238454260265141\n",
            "1500,13.0\n",
            "0.34029159851687646 0.09057308098299158\n",
            "2000,123.0\n",
            "0.31508481344155226 0.08879713821861919\n",
            "2500,49.0\n",
            "0.2917451976310669 0.08705601786139136\n",
            "3000,12.0\n",
            "0.2701344422509878 0.08534903711901114\n",
            "3500,19.0\n",
            "0.2501244835657294 0.08367552658726582\n",
            "4000,146.0\n",
            "0.23159674404234204 0.0820348299875155\n",
            "4500,220.0\n",
            "0.2144414296688352 0.08042630390932892\n",
            "5000,199.0\n",
            "0.19855687932299554 0.07884931755816561\n",
            "5500,19.0\n",
            "0.18384896233610698 0.0773032525080055\n",
            "6000,162.0\n",
            "0.17023052068158054 0.07578750245882893\n",
            "6500,218.0\n",
            "0.15762085248294494 0.07430147299885188\n",
            "7000,252.0\n",
            "0.14594523378050456 0.07284458137142341\n",
            "7500,189.0\n",
            "0.13513447572268938 0.07141625624649355\n",
            "8000,279.0\n",
            "0.1251245145580457 0.07001593749656229\n",
            "8500,294.0\n",
            "0.11585603199819047 0.06864307597702185\n",
            "9000,187.0\n",
            "0.10727410370202821 0.06729713331080574\n",
            "9500,123.0\n",
            "0.09932787379817426 0.06597758167726052\n",
            "10000,154.0\n",
            "0.09197025351682801 0.06468390360515737\n",
            "10500,145.0\n",
            "0.08515764214521111 0.06341559176976212\n",
            "11000,150.0\n",
            "0.07884966865297324 0.062172148793884434\n",
            "11500,361.0\n",
            "0.07300895245645671 0.06095308705282788\n",
            "12000,348.0\n",
            "0.06760088190412658 0.05975792848316459\n",
            "12500,54.0\n",
            "0.06259340917048757 0.0585862043952594\n",
            "13000,137.0\n",
            "0.057956860343044043 0.057437455289469995\n",
            "13500,137.0\n",
            "0.05366375957689263 0.05631123067595097\n",
            "14000,14.0\n",
            "0.04968866627490058 0.05520708889799115\n",
            "14500,324.0\n",
            "0.046008024328611646 0.05412459695881485\n",
            "15000,313.0\n",
            "0.04260002252649226 0.053063330351779264\n",
            "15500,143.0\n",
            "0.03944446530230765 0.052022872893901236\n",
            "16000,302.0\n",
            "0.03652265305769226 0.05100281656264827\n",
            "16500,368.0\n",
            "0.03381727134971506 0.05000276133592967\n",
            "17000,153.0\n",
            "0.0313122882867732 0.04902231503522517\n",
            "17500,398.0\n",
            "0.028992859524790002 0.04806109317178938\n",
            "18000,210.0\n",
            "0.02684524030073148 0.04711871879587194\n",
            "18500,200.0\n",
            "0.024856703982158775 0.04619482234889406\n",
            "19000,391.0\n",
            "0.02301546665014701 0.04528904151852359\n",
            "19500,282.0\n"
          ],
          "name": "stdout"
        }
      ]
    },
    {
      "cell_type": "code",
      "metadata": {
        "id": "47uh4CK0lS46"
      },
      "source": [
        "#def update_scene(num, frames, patch):\r\n",
        "#    patch.set_data(frames[num])\r\n",
        "#    return patch,\r\n",
        "\r\n",
        "#def plot_animation(frames, repeat=False, interval=40):\r\n",
        "#   fig = plt.figure()\r\n",
        "#    patch = plt.imshow(frames[0])\r\n",
        "#    plt.axis('off')\r\n",
        "#    anim = animation.FuncAnimation(\r\n",
        "#        fig, update_scene, fargs=(frames, patch),\r\n",
        "#        frames=len(frames), repeat=repeat, interval=interval)\r\n",
        "#    plt.close()\r\n",
        "#    return anim"
      ],
      "execution_count": 649,
      "outputs": []
    },
    {
      "cell_type": "code",
      "metadata": {
        "id": "rDjAHrYHlq-A"
      },
      "source": [
        "#plot_animation(frames)"
      ],
      "execution_count": 650,
      "outputs": []
    },
    {
      "cell_type": "markdown",
      "metadata": {
        "id": "PEU83E5leaVV"
      },
      "source": [
        "# Analysis...\n",
        "Try a number of parameter settings and try to get stable and good performance. Do not dispare if the results seems poor, it is very tricky to get good results!  "
      ]
    },
    {
      "cell_type": "code",
      "metadata": {
        "id": "3jWkcwaZrUD0",
        "colab": {
          "base_uri": "https://localhost:8080/",
          "height": 262
        },
        "outputId": "b46d427c-4247-4de3-d5ce-19a39e099f46"
      },
      "source": [
        "# Plot the results from a training run\n",
        "plt.figure(figsize=(16, 4))\n",
        "plt.plot(episode_reward,\"b\")\n",
        "y_av = running_mean(episode_reward, N=100)\n",
        "plt.plot(y_av,\"r\")"
      ],
      "execution_count": 651,
      "outputs": [
        {
          "output_type": "execute_result",
          "data": {
            "text/plain": [
              "[<matplotlib.lines.Line2D at 0x7f56b0bfe3c8>]"
            ]
          },
          "metadata": {
            "tags": []
          },
          "execution_count": 651
        },
        {
          "output_type": "display_data",
          "data": {
            "image/png": "[encoded data removed]",
            "text/plain": [
              "<Figure size 1152x288 with 1 Axes>"
            ]
          },
          "metadata": {
            "tags": [],
            "needs_background": "light"
          }
        }
      ]
    },
    {
      "cell_type": "markdown",
      "metadata": {
        "id": "pU9-kMT4kC7V"
      },
      "source": [
        "Lyckats få den att förbättra sig något över tid men det är väldigt svårt att få ett bra resultat där den inte går uppåt i början men sedan verkar glömma bort och tappa prestanda igen. Den är lite all over the place men den ökar ändå stadigt. Börjar på ett ganska högt epsilon för att uppmuntra till utforskning och sänker det med 8% var 500e iteration, en väldigt enkel variant på minskande epsilon. Samma sak med learning raten som sänks med endast 2 procent då den börjar mycket lägre. Minimum värdena dippar fortfarande ner på låga värden även om de har lyfts en hel del del. Medelvärdet ligger och hovrar mellan 200-300 vilket jag skulle säga är väldigt bra och jag är nöjd med det resultatet.\r\n",
        "\r\n",
        "Efter att ha testat en hel drös med olika parameterkomibnationer har jag kommit fram till att det som gett bäst resultat har varit att öka antalet discrete steps till 12 från 10. Det har genast ökat prestandan och hållt den höjd mellan körningar. Tycker att denna lab har varit väldigt svår att få till bra och kanske inte heller så värst givande då det till största del bara gäller att testa olika kombinationer och hoppas på det bästa."
      ]
    },
    {
      "cell_type": "markdown",
      "metadata": {
        "id": "H2W0ECmwfs79"
      },
      "source": [
        "# Continued Analysis\n",
        "To better understand why the performance is so poor, you should check how much of the Q-table is filled in (corresponding to how much of the environment that is explored). What part of the Q-table is filled in? What conclusions can we make out of this? \n",
        "\n",
        "With an adaptation of epsilon and learning rate (starting high to allow for more exploration and learning in the beginning, and then later reduce the value) can significantly improve the performance. See Geron's \"exploration policies\"."
      ]
    },
    {
      "cell_type": "markdown",
      "metadata": {
        "id": "sI0xYMeL17sM"
      },
      "source": [
        "Vi kan kolla hur stor andel av tabellen som är noll och därmed outforskad"
      ]
    },
    {
      "cell_type": "code",
      "metadata": {
        "colab": {
          "base_uri": "https://localhost:8080/"
        },
        "id": "_yXpXSutobpI",
        "outputId": "32868087-c449-4698-c512-c12b82a1a368"
      },
      "source": [
        "qarray = np.array(qtable)\r\n",
        "np.mean(qarray == 0)"
      ],
      "execution_count": 652,
      "outputs": [
        {
          "output_type": "execute_result",
          "data": {
            "text/plain": [
              "0.9794801311728395"
            ]
          },
          "metadata": {
            "tags": []
          },
          "execution_count": 652
        }
      ]
    },
    {
      "cell_type": "markdown",
      "metadata": {
        "id": "5OnHs2Sm2CfE"
      },
      "source": [
        "Här ser vi att ca 98% av tabellen består av nollor och är därmed outforskad. Det får mig att tänka att det är en hel del slösat utrymme och att Q-learning är en ganska innefektiv metod då den tar rätt länge att träna och får en stor beslutsrymd. Detta exempel har också bara 4 dimensioner av sitt state, en mer avancerad applikation hade nog fått ett enormt stor beslutsrymd. Då detta är ett ganska \"trivialt\" problem så tror jag att jag kommer att experimentera med OpenAI Gyms andra environments för skojs skull och se om jag inte hittar något mer spännande."
      ]
    }
  ]
}