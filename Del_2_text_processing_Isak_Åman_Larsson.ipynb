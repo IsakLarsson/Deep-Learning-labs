{
  "nbformat": 4,
  "nbformat_minor": 0,
  "metadata": {
    "kernelspec": {
      "display_name": "Python 3",
      "language": "python",
      "name": "python3"
    },
    "language_info": {
      "codemirror_mode": {
        "name": "ipython",
        "version": 3
      },
      "file_extension": ".py",
      "mimetype": "text/x-python",
      "name": "python",
      "nbconvert_exporter": "python",
      "pygments_lexer": "ipython3",
      "version": "3.5.2"
    },
    "colab": {
      "name": "Del 2 text processing Isak Åman Larsson.ipynb",
      "provenance": [],
      "collapsed_sections": [],
      "toc_visible": true,
      "include_colab_link": true
    },
    "accelerator": "GPU"
  },
  "cells": [
    {
      "cell_type": "markdown",
      "metadata": {
        "id": "view-in-github",
        "colab_type": "text"
      },
      "source": [
        "<a href=\"https://colab.research.google.com/github/IsakLarsson/Deep-Learning-labs/blob/main/Del_2_text_processing_Isak_%C3%85man_Larsson.ipynb\" target=\"_parent\"><img src=\"https://colab.research.google.com/assets/colab-badge.svg\" alt=\"Open In Colab\"/></a>"
      ]
    },
    {
      "cell_type": "code",
      "metadata": {
        "id": "dpQW6kAZPRsb",
        "colab": {
          "base_uri": "https://localhost:8080/",
          "height": 35
        },
        "outputId": "bfa7c977-34cc-47b3-ee12-3e1919006b71"
      },
      "source": [
        "import keras\n",
        "keras.__version__"
      ],
      "execution_count": null,
      "outputs": [
        {
          "output_type": "execute_result",
          "data": {
            "application/vnd.google.colaboratory.intrinsic+json": {
              "type": "string"
            },
            "text/plain": [
              "'2.4.3'"
            ]
          },
          "metadata": {
            "tags": []
          },
          "execution_count": 1
        }
      ]
    },
    {
      "cell_type": "markdown",
      "metadata": {
        "id": "LaAzyvUVPRsh"
      },
      "source": [
        "# Understanding recurrent neural networks\n",
        "\n",
        "This notebook contains the code samples found in Chapter 6, Section 2 of [Deep Learning with Python](https://www.manning.com/books/deep-learning-with-python?a_aid=keras&a_bid=76564dff). Note that the original text features far more content, in particular further explanations and figures: in this notebook, you will only find source code and related comments.\n",
        "\n",
        "---\n",
        "\n",
        "[...]\n",
        "\n",
        "## A first recurrent layer in Keras\n",
        "\n",
        "The process we just naively implemented in Numpy corresponds to an actual Keras layer: the `SimpleRNN` layer:\n"
      ]
    },
    {
      "cell_type": "code",
      "metadata": {
        "collapsed": true,
        "id": "NIVJ1vnGPRsh"
      },
      "source": [
        "from keras.layers import SimpleRNN"
      ],
      "execution_count": null,
      "outputs": []
    },
    {
      "cell_type": "markdown",
      "metadata": {
        "id": "x7qltvyEPRsi"
      },
      "source": [
        "There is just one minor difference: `SimpleRNN` processes batches of sequences, like all other Keras layers, not just a single sequence like \n",
        "in our Numpy example. This means that it takes inputs of shape `(batch_size, timesteps, input_features)`, rather than `(timesteps, \n",
        "input_features)`.\n",
        "\n",
        "Like all recurrent layers in Keras, `SimpleRNN` can be run in two different modes: it can return either the full sequences of successive \n",
        "outputs for each timestep (a 3D tensor of shape `(batch_size, timesteps, output_features)`), or it can return only the last output for each \n",
        "input sequence (a 2D tensor of shape `(batch_size, output_features)`). These two modes are controlled by the `return_sequences` constructor \n",
        "argument. Let's take a look at an example:"
      ]
    },
    {
      "cell_type": "code",
      "metadata": {
        "id": "30UncT6kPRsi",
        "colab": {
          "base_uri": "https://localhost:8080/"
        },
        "outputId": "f687d660-ed4f-45c9-8904-f60279aa6abb"
      },
      "source": [
        "from keras.models import Sequential\n",
        "from keras.layers import Embedding, SimpleRNN\n",
        "\n",
        "model = Sequential()\n",
        "model.add(Embedding(10000, 32))\n",
        "model.add(SimpleRNN(32))\n",
        "model.summary()"
      ],
      "execution_count": null,
      "outputs": [
        {
          "output_type": "stream",
          "text": [
            "Model: \"sequential\"\n",
            "_________________________________________________________________\n",
            "Layer (type)                 Output Shape              Param #   \n",
            "=================================================================\n",
            "embedding (Embedding)        (None, None, 32)          320000    \n",
            "_________________________________________________________________\n",
            "simple_rnn (SimpleRNN)       (None, 32)                2080      \n",
            "=================================================================\n",
            "Total params: 322,080\n",
            "Trainable params: 322,080\n",
            "Non-trainable params: 0\n",
            "_________________________________________________________________\n"
          ],
          "name": "stdout"
        }
      ]
    },
    {
      "cell_type": "code",
      "metadata": {
        "id": "om9oyxnpPRsi",
        "colab": {
          "base_uri": "https://localhost:8080/"
        },
        "outputId": "0be0aa0f-c4f8-46a0-c1f1-115d5ede6d03"
      },
      "source": [
        "model = Sequential()\n",
        "model.add(Embedding(10000, 32))\n",
        "model.add(SimpleRNN(32, return_sequences=True))\n",
        "model.summary()"
      ],
      "execution_count": null,
      "outputs": [
        {
          "output_type": "stream",
          "text": [
            "Model: \"sequential_1\"\n",
            "_________________________________________________________________\n",
            "Layer (type)                 Output Shape              Param #   \n",
            "=================================================================\n",
            "embedding_1 (Embedding)      (None, None, 32)          320000    \n",
            "_________________________________________________________________\n",
            "simple_rnn_1 (SimpleRNN)     (None, None, 32)          2080      \n",
            "=================================================================\n",
            "Total params: 322,080\n",
            "Trainable params: 322,080\n",
            "Non-trainable params: 0\n",
            "_________________________________________________________________\n"
          ],
          "name": "stdout"
        }
      ]
    },
    {
      "cell_type": "markdown",
      "metadata": {
        "id": "Xt83pVtEPRsj"
      },
      "source": [
        "It is sometimes useful to stack several recurrent layers one after the other in order to increase the representational power of a network. \n",
        "In such a setup, you have to get all intermediate layers to return full sequences:"
      ]
    },
    {
      "cell_type": "code",
      "metadata": {
        "id": "yzjY1nHLPRsj",
        "colab": {
          "base_uri": "https://localhost:8080/"
        },
        "outputId": "1fb7e032-ab28-4588-d2bc-04fb46d79fa0"
      },
      "source": [
        "model = Sequential()\n",
        "model.add(Embedding(10000, 32))\n",
        "model.add(SimpleRNN(32, return_sequences=True))\n",
        "model.add(SimpleRNN(32, return_sequences=True))\n",
        "model.add(SimpleRNN(32, return_sequences=True))\n",
        "model.add(SimpleRNN(32))  # This last layer only returns the last outputs.\n",
        "model.summary()"
      ],
      "execution_count": null,
      "outputs": [
        {
          "output_type": "stream",
          "text": [
            "Model: \"sequential_2\"\n",
            "_________________________________________________________________\n",
            "Layer (type)                 Output Shape              Param #   \n",
            "=================================================================\n",
            "embedding_2 (Embedding)      (None, None, 32)          320000    \n",
            "_________________________________________________________________\n",
            "simple_rnn_2 (SimpleRNN)     (None, None, 32)          2080      \n",
            "_________________________________________________________________\n",
            "simple_rnn_3 (SimpleRNN)     (None, None, 32)          2080      \n",
            "_________________________________________________________________\n",
            "simple_rnn_4 (SimpleRNN)     (None, None, 32)          2080      \n",
            "_________________________________________________________________\n",
            "simple_rnn_5 (SimpleRNN)     (None, 32)                2080      \n",
            "=================================================================\n",
            "Total params: 328,320\n",
            "Trainable params: 328,320\n",
            "Non-trainable params: 0\n",
            "_________________________________________________________________\n"
          ],
          "name": "stdout"
        }
      ]
    },
    {
      "cell_type": "markdown",
      "metadata": {
        "id": "1u7e9FvCPRsj"
      },
      "source": [
        "Now let's try to use such a model on the IMDB movie review classification problem. First, let's preprocess the data:"
      ]
    },
    {
      "cell_type": "code",
      "metadata": {
        "id": "rsDMtBO1PRsj",
        "colab": {
          "base_uri": "https://localhost:8080/"
        },
        "outputId": "e4a5f34d-10d4-42e0-e326-27d0046fdc77"
      },
      "source": [
        "from keras.datasets import imdb\n",
        "from keras.preprocessing import sequence\n",
        "\n",
        "max_features = 80000 # number of words to consider as features\n",
        "maxlen = 500  # cut texts after this number of words (among top max_features most common words)\n",
        "batch_size = 32\n",
        "EPOCHS = 40\n",
        "\n",
        "print('Loading data...')\n",
        "(input_train, y_train), (input_test, y_test) = imdb.load_data(num_words=max_features)\n",
        "print(len(input_train), 'train sequences')\n",
        "print(len(input_test), 'test sequences')\n",
        "\n",
        "print('Pad sequences (samples x time)')\n",
        "input_train = sequence.pad_sequences(input_train, maxlen=maxlen)\n",
        "input_test = sequence.pad_sequences(input_test, maxlen=maxlen)\n",
        "print('input_train shape:', input_train.shape)\n",
        "print('input_test shape:', input_test.shape)"
      ],
      "execution_count": null,
      "outputs": [
        {
          "output_type": "stream",
          "text": [
            "Loading data...\n",
            "Downloading data from https://storage.googleapis.com/tensorflow/tf-keras-datasets/imdb.npz\n",
            "17465344/17464789 [==============================] - 0s 0us/step\n",
            "25000 train sequences\n",
            "25000 test sequences\n",
            "Pad sequences (samples x time)\n",
            "input_train shape: (25000, 500)\n",
            "input_test shape: (25000, 500)\n"
          ],
          "name": "stdout"
        }
      ]
    },
    {
      "cell_type": "markdown",
      "metadata": {
        "id": "N8J7WVZoPRsk"
      },
      "source": [
        "Let's train a simple recurrent network using an `Embedding` layer and a `SimpleRNN` layer:"
      ]
    },
    {
      "cell_type": "code",
      "metadata": {
        "id": "SDjc7_t7PRsk",
        "colab": {
          "base_uri": "https://localhost:8080/"
        },
        "outputId": "b705c187-9df0-41f7-e317-d01ebc563f1c"
      },
      "source": [
        "from keras.layers import Dense\n",
        "from keras.callbacks import EarlyStopping\n",
        "\n",
        "earlystop= EarlyStopping(monitor='val_loss',\n",
        "                         patience=3, \n",
        "                         min_delta=0, \n",
        "                         restore_best_weights=True) #definiera early stop\n",
        "\n",
        "modelRNN = Sequential()\n",
        "modelRNN.add(Embedding(max_features, 32))\n",
        "modelRNN.add(SimpleRNN(32))\n",
        "modelRNN.add(Dense(1, activation='sigmoid'))\n",
        "\n",
        "modelRNN.compile(optimizer='rmsprop', loss='binary_crossentropy', metrics=['acc'])\n",
        "\n",
        "\n",
        "history = modelRNN.fit(input_train, y_train,\n",
        "                    epochs=EPOCHS,\n",
        "                    batch_size=128,\n",
        "                    validation_split=0.2,\n",
        "                    callbacks=[earlystop])\n",
        "\n",
        "\n"
      ],
      "execution_count": null,
      "outputs": [
        {
          "output_type": "stream",
          "text": [
            "Epoch 1/40\n",
            "157/157 [==============================] - 56s 355ms/step - loss: 0.6419 - acc: 0.6122 - val_loss: 0.7147 - val_acc: 0.6134\n",
            "Epoch 2/40\n",
            "157/157 [==============================] - 54s 347ms/step - loss: 0.4231 - acc: 0.8189 - val_loss: 0.3895 - val_acc: 0.8382\n",
            "Epoch 3/40\n",
            "157/157 [==============================] - 54s 344ms/step - loss: 0.2682 - acc: 0.8954 - val_loss: 0.3988 - val_acc: 0.8428\n",
            "Epoch 4/40\n",
            "157/157 [==============================] - 55s 347ms/step - loss: 0.1867 - acc: 0.9308 - val_loss: 0.3784 - val_acc: 0.8502\n",
            "Epoch 5/40\n",
            "157/157 [==============================] - 55s 353ms/step - loss: 0.1340 - acc: 0.9532 - val_loss: 0.4038 - val_acc: 0.8500\n",
            "Epoch 6/40\n",
            "157/157 [==============================] - 55s 348ms/step - loss: 0.0781 - acc: 0.9727 - val_loss: 0.4745 - val_acc: 0.8202\n",
            "Epoch 7/40\n",
            "157/157 [==============================] - 54s 345ms/step - loss: 0.0440 - acc: 0.9862 - val_loss: 0.4568 - val_acc: 0.8582\n"
          ],
          "name": "stdout"
        }
      ]
    },
    {
      "cell_type": "markdown",
      "metadata": {
        "id": "LZPMup55PRsk"
      },
      "source": [
        "Let's display the training and validation loss and accuracy:"
      ]
    },
    {
      "cell_type": "code",
      "metadata": {
        "id": "8mRygpkdPRsk",
        "colab": {
          "base_uri": "https://localhost:8080/",
          "height": 545
        },
        "outputId": "59bdc87d-27f5-46f9-aad9-95e85308264e"
      },
      "source": [
        "import matplotlib.pyplot as plt\n",
        "\n",
        "acc = history.history['acc']\n",
        "val_acc = history.history['val_acc']\n",
        "loss = history.history['loss']\n",
        "val_loss = history.history['val_loss']\n",
        "\n",
        "epochs = range(len(acc))\n",
        "\n",
        "plt.plot(epochs, acc, 'bo', label='Training acc')\n",
        "plt.plot(epochs, val_acc, 'b', label='Validation acc')\n",
        "plt.title('Training and validation accuracy')\n",
        "plt.legend()\n",
        "\n",
        "plt.figure()\n",
        "\n",
        "plt.plot(epochs, loss, 'bo', label='Training loss')\n",
        "plt.plot(epochs, val_loss, 'b', label='Validation loss')\n",
        "plt.title('Training and validation loss')\n",
        "plt.legend()\n",
        "\n",
        "plt.show()\n",
        "\n"
      ],
      "execution_count": null,
      "outputs": [
        {
          "output_type": "display_data",
          "data": {
            "image/png": "[encoded data removed]",
            "text/plain": [
              "<Figure size 432x288 with 1 Axes>"
            ]
          },
          "metadata": {
            "tags": [],
            "needs_background": "light"
          }
        },
        {
          "output_type": "display_data",
          "data": {
            "image/png": "[encoded data removed]",
            "text/plain": [
              "<Figure size 432x288 with 1 Axes>"
            ]
          },
          "metadata": {
            "tags": [],
            "needs_background": "light"
          }
        }
      ]
    },
    {
      "cell_type": "markdown",
      "metadata": {
        "id": "8f6VLk_6PRsl"
      },
      "source": [
        "As a reminder, in chapter 3, our very first naive approach to this very dataset got us to 88% test accuracy. Unfortunately, our small \n",
        "recurrent network doesn't perform very well at all compared to this baseline (only up to 85% validation accuracy). Part of the problem is \n",
        "that our inputs only consider the first 500 words rather the full sequences -- \n",
        "hence our RNN has access to less information than our earlier baseline model. The remainder of the problem is simply that `SimpleRNN` isn't very good at processing long sequences, like text. Other types of recurrent layers perform much better. Let's take a look at some \n",
        "more advanced layers."
      ]
    },
    {
      "cell_type": "markdown",
      "metadata": {
        "id": "aj5PzlWZPRsl"
      },
      "source": [
        "[...]\n",
        "\n",
        "## A concrete LSTM example in Keras\n",
        "\n",
        "Now let's switch to more practical concerns: we will set up a model using a LSTM layer and train it on the IMDB data. Here's the network, \n",
        "similar to the one with `SimpleRNN` that we just presented. We only specify the output dimensionality of the LSTM layer, and leave every \n",
        "other argument (there are lots) to the Keras defaults. Keras has good defaults, and things will almost always \"just work\" without you \n",
        "having to spend time tuning parameters by hand."
      ]
    },
    {
      "cell_type": "code",
      "metadata": {
        "id": "60ln1Zb4PRsl",
        "colab": {
          "base_uri": "https://localhost:8080/"
        },
        "outputId": "494afcf2-8a12-49c5-fa75-1ce0db270350"
      },
      "source": [
        "from keras.layers import LSTM\n",
        "\n",
        "modelLSTM = Sequential()\n",
        "modelLSTM.add(Embedding(max_features, 32))\n",
        "modelLSTM.add(LSTM(32))\n",
        "modelLSTM.add(Dense(1, activation='sigmoid'))\n",
        "\n",
        "modelLSTM.compile(optimizer='rmsprop',\n",
        "              loss='binary_crossentropy',\n",
        "              metrics=['acc'])\n",
        "history = modelLSTM.fit(input_train, y_train,\n",
        "                    epochs=EPOCHS,\n",
        "                    batch_size=128,\n",
        "                    validation_split=0.2,\n",
        "                    callbacks=[earlystop])\n",
        "\n"
      ],
      "execution_count": null,
      "outputs": [
        {
          "output_type": "stream",
          "text": [
            "Epoch 1/40\n",
            "157/157 [==============================] - 6s 38ms/step - loss: 0.4923 - acc: 0.7736 - val_loss: 0.4621 - val_acc: 0.7882\n",
            "Epoch 2/40\n",
            "157/157 [==============================] - 6s 35ms/step - loss: 0.2766 - acc: 0.8967 - val_loss: 0.3786 - val_acc: 0.8544\n",
            "Epoch 3/40\n",
            "157/157 [==============================] - 6s 35ms/step - loss: 0.1971 - acc: 0.9296 - val_loss: 0.3603 - val_acc: 0.8422\n",
            "Epoch 4/40\n",
            "157/157 [==============================] - 6s 36ms/step - loss: 0.1434 - acc: 0.9507 - val_loss: 0.2899 - val_acc: 0.8940\n",
            "Epoch 5/40\n",
            "157/157 [==============================] - 5s 34ms/step - loss: 0.1109 - acc: 0.9624 - val_loss: 0.3663 - val_acc: 0.8738\n",
            "Epoch 6/40\n",
            "157/157 [==============================] - 5s 34ms/step - loss: 0.0876 - acc: 0.9707 - val_loss: 0.3311 - val_acc: 0.8860\n",
            "Epoch 7/40\n",
            "157/157 [==============================] - 5s 33ms/step - loss: 0.0664 - acc: 0.9786 - val_loss: 0.5438 - val_acc: 0.8172\n"
          ],
          "name": "stdout"
        }
      ]
    },
    {
      "cell_type": "code",
      "metadata": {
        "id": "OUFF-Gd6PRsm",
        "colab": {
          "base_uri": "https://localhost:8080/",
          "height": 545
        },
        "outputId": "bb936263-503a-4b81-d289-9b3a251b6a8e"
      },
      "source": [
        "acc = history.history['acc']\n",
        "val_acc = history.history['val_acc']\n",
        "loss = history.history['loss']\n",
        "val_loss = history.history['val_loss']\n",
        "\n",
        "epochs = range(len(acc))\n",
        "\n",
        "plt.plot(epochs, acc, 'bo', label='Training acc')\n",
        "plt.plot(epochs, val_acc, 'b', label='Validation acc')\n",
        "plt.title('Training and validation accuracy')\n",
        "plt.legend()\n",
        "\n",
        "plt.figure()\n",
        "\n",
        "plt.plot(epochs, loss, 'bo', label='Training loss')\n",
        "plt.plot(epochs, val_loss, 'b', label='Validation loss')\n",
        "plt.title('Training and validation loss')\n",
        "plt.legend()\n",
        "\n",
        "plt.show()"
      ],
      "execution_count": null,
      "outputs": [
        {
          "output_type": "display_data",
          "data": {
            "image/png": "[encoded data removed]",
            "text/plain": [
              "<Figure size 432x288 with 1 Axes>"
            ]
          },
          "metadata": {
            "tags": [],
            "needs_background": "light"
          }
        },
        {
          "output_type": "display_data",
          "data": {
            "image/png": "[encoded data removed]",
            "text/plain": [
              "<Figure size 432x288 with 1 Axes>"
            ]
          },
          "metadata": {
            "tags": [],
            "needs_background": "light"
          }
        }
      ]
    },
    {
      "cell_type": "markdown",
      "metadata": {
        "id": "GQaddaa9i66r"
      },
      "source": [
        "#Egen implementation"
      ]
    },
    {
      "cell_type": "markdown",
      "metadata": {
        "id": "hrlv0zexpGvK"
      },
      "source": [
        "De övre modellerna verkar overfitta en del då de når nästan 100% training accuracy och av graferna att döma så går lossen upp väldigt fort. implementerat early stopping nu."
      ]
    },
    {
      "cell_type": "markdown",
      "metadata": {
        "id": "lDiyPJT5j2RQ"
      },
      "source": [
        "Sparar ned de tidigare modellernas resultat"
      ]
    },
    {
      "cell_type": "code",
      "metadata": {
        "colab": {
          "base_uri": "https://localhost:8080/"
        },
        "id": "U3hPdxcwi6Yt",
        "outputId": "0fac5caf-36ee-47a3-ec9e-1206d96d5d17"
      },
      "source": [
        "models_performance = {}\r\n",
        "\r\n",
        "models_performance[\"Simple RNN\"]=modelRNN.evaluate(input_test, y_test)\r\n",
        "models_performance[\"LSTM(32)\"]=modelLSTM.evaluate(input_test, y_test)\r\n",
        "\r\n",
        "\r\n"
      ],
      "execution_count": null,
      "outputs": [
        {
          "output_type": "stream",
          "text": [
            "782/782 [==============================] - 26s 33ms/step - loss: 0.3934 - acc: 0.8375\n",
            "782/782 [==============================] - 7s 9ms/step - loss: 0.3457 - acc: 0.8747\n"
          ],
          "name": "stdout"
        }
      ]
    },
    {
      "cell_type": "markdown",
      "metadata": {
        "id": "cDBWUNpPo2l4"
      },
      "source": [
        "##LSTM(128)"
      ]
    },
    {
      "cell_type": "code",
      "metadata": {
        "colab": {
          "base_uri": "https://localhost:8080/"
        },
        "id": "nuPD3yHto1vm",
        "outputId": "8cc501a0-0867-434a-d618-9aff737879aa"
      },
      "source": [
        "model = Sequential()\r\n",
        "model.add(Embedding(max_features, 32))\r\n",
        "model.add(LSTM(128))\r\n",
        "model.add(Dense(1, activation='sigmoid'))\r\n",
        "\r\n",
        "model.compile(optimizer='rmsprop',\r\n",
        "              loss='binary_crossentropy',\r\n",
        "              metrics=['acc'])\r\n",
        "model.optimizer.lr = 0.0001 ##Learning rate\r\n",
        "\r\n",
        "history = model.fit(input_train, y_train,\r\n",
        "                    epochs=EPOCHS,\r\n",
        "                    batch_size=128,\r\n",
        "                    validation_split=0.2,\r\n",
        "                    callbacks=[earlystop])\r\n",
        "\r\n",
        "models_performance[\"LSTM(128)\"]=model.evaluate(input_test, y_test)"
      ],
      "execution_count": null,
      "outputs": [
        {
          "output_type": "stream",
          "text": [
            "Epoch 1/40\n",
            "157/157 [==============================] - 8s 52ms/step - loss: 0.6875 - acc: 0.5756 - val_loss: 0.6600 - val_acc: 0.6396\n",
            "Epoch 2/40\n",
            "157/157 [==============================] - 8s 48ms/step - loss: 0.6213 - acc: 0.7171 - val_loss: 0.6031 - val_acc: 0.6176\n",
            "Epoch 3/40\n",
            "157/157 [==============================] - 8s 48ms/step - loss: 0.5195 - acc: 0.7821 - val_loss: 0.5352 - val_acc: 0.7128\n",
            "Epoch 4/40\n",
            "157/157 [==============================] - 8s 48ms/step - loss: 0.4144 - acc: 0.8488 - val_loss: 0.3897 - val_acc: 0.8516\n",
            "Epoch 5/40\n",
            "157/157 [==============================] - 8s 48ms/step - loss: 0.3405 - acc: 0.8846 - val_loss: 0.4202 - val_acc: 0.8604\n",
            "Epoch 6/40\n",
            "157/157 [==============================] - 8s 48ms/step - loss: 0.2925 - acc: 0.8983 - val_loss: 0.3543 - val_acc: 0.8660\n",
            "Epoch 7/40\n",
            "157/157 [==============================] - 8s 48ms/step - loss: 0.2530 - acc: 0.9091 - val_loss: 0.3651 - val_acc: 0.8602\n",
            "Epoch 8/40\n",
            "157/157 [==============================] - 8s 48ms/step - loss: 0.2239 - acc: 0.9215 - val_loss: 0.3406 - val_acc: 0.8794\n",
            "Epoch 9/40\n",
            "157/157 [==============================] - 8s 48ms/step - loss: 0.2029 - acc: 0.9290 - val_loss: 0.3761 - val_acc: 0.8756\n",
            "Epoch 10/40\n",
            "157/157 [==============================] - 8s 48ms/step - loss: 0.1824 - acc: 0.9368 - val_loss: 0.2720 - val_acc: 0.8920\n",
            "Epoch 11/40\n",
            "157/157 [==============================] - 8s 49ms/step - loss: 0.1632 - acc: 0.9452 - val_loss: 0.2711 - val_acc: 0.8926\n",
            "Epoch 12/40\n",
            "157/157 [==============================] - 8s 48ms/step - loss: 0.1489 - acc: 0.9506 - val_loss: 0.3185 - val_acc: 0.8850\n",
            "Epoch 13/40\n",
            "157/157 [==============================] - 8s 48ms/step - loss: 0.1371 - acc: 0.9547 - val_loss: 0.2627 - val_acc: 0.8930\n",
            "Epoch 14/40\n",
            "157/157 [==============================] - 8s 48ms/step - loss: 0.1221 - acc: 0.9600 - val_loss: 0.3229 - val_acc: 0.8900\n",
            "Epoch 15/40\n",
            "157/157 [==============================] - 8s 48ms/step - loss: 0.1109 - acc: 0.9647 - val_loss: 0.3008 - val_acc: 0.8952\n",
            "Epoch 16/40\n",
            "157/157 [==============================] - 8s 49ms/step - loss: 0.0996 - acc: 0.9685 - val_loss: 0.3507 - val_acc: 0.8912\n",
            "782/782 [==============================] - 7s 9ms/step - loss: 0.2887 - acc: 0.8803\n"
          ],
          "name": "stdout"
        }
      ]
    },
    {
      "cell_type": "markdown",
      "metadata": {
        "id": "CciI-Pe81mto"
      },
      "source": [
        "Printa historiken"
      ]
    },
    {
      "cell_type": "code",
      "metadata": {
        "colab": {
          "base_uri": "https://localhost:8080/",
          "height": 545
        },
        "id": "3OoFmUHc1mL7",
        "outputId": "8d5e590a-7264-4e6b-8f60-48af165d8b89"
      },
      "source": [
        "acc = history.history['acc']\r\n",
        "val_acc = history.history['val_acc']\r\n",
        "loss = history.history['loss']\r\n",
        "val_loss = history.history['val_loss']\r\n",
        "\r\n",
        "epochs = range(len(acc))\r\n",
        "\r\n",
        "plt.plot(epochs, acc, 'bo', label='Training acc')\r\n",
        "plt.plot(epochs, val_acc, 'b', label='Validation acc')\r\n",
        "plt.title('Training and validation accuracy')\r\n",
        "plt.legend()\r\n",
        "\r\n",
        "plt.figure()\r\n",
        "\r\n",
        "plt.plot(epochs, loss, 'bo', label='Training loss')\r\n",
        "plt.plot(epochs, val_loss, 'b', label='Validation loss')\r\n",
        "plt.title('Training and validation loss')\r\n",
        "plt.legend()\r\n",
        "\r\n",
        "plt.show()"
      ],
      "execution_count": null,
      "outputs": [
        {
          "output_type": "display_data",
          "data": {
            "image/png": "[encoded data removed]",
            "text/plain": [
              "<Figure size 432x288 with 1 Axes>"
            ]
          },
          "metadata": {
            "tags": [],
            "needs_background": "light"
          }
        },
        {
          "output_type": "display_data",
          "data": {
            "image/png": "[encoded data removed]",
            "text/plain": [
              "<Figure size 432x288 with 1 Axes>"
            ]
          },
          "metadata": {
            "tags": [],
            "needs_background": "light"
          }
        }
      ]
    },
    {
      "cell_type": "markdown",
      "metadata": {
        "id": "qOiYh3tX01wC"
      },
      "source": [
        "##Bidirectional LSTM(32)"
      ]
    },
    {
      "cell_type": "code",
      "metadata": {
        "colab": {
          "base_uri": "https://localhost:8080/"
        },
        "id": "xISGlRWl0RXz",
        "outputId": "f3ab07e9-bb71-422d-bca5-e109e8e3d5bd"
      },
      "source": [
        "import tensorflow as tf\r\n",
        "\r\n",
        "model = tf.keras.Sequential([\r\n",
        "  tf.keras.layers.Embedding(max_features, 32),\r\n",
        "  tf.keras.layers.Bidirectional(tf.keras.layers.LSTM(32)),\r\n",
        "  tf.keras.layers.Dense(1, activation=\"sigmoid\")\r\n",
        "])\r\n",
        "\r\n",
        "model.compile(optimizer='rmsprop',\r\n",
        "              loss='binary_crossentropy',\r\n",
        "              metrics=['acc'])\r\n",
        "model.optimizer.lr = 0.0001 ##Learning rate\r\n",
        "\r\n",
        "history = model.fit(input_train, y_train,\r\n",
        "                    epochs=EPOCHS,\r\n",
        "                    batch_size=128,\r\n",
        "                    validation_split=0.2,\r\n",
        "                    callbacks=[earlystop])\r\n",
        "\r\n",
        "models_performance[\"Bidirectional LSTM(32)\"]=model.evaluate(input_test, y_test)"
      ],
      "execution_count": null,
      "outputs": [
        {
          "output_type": "stream",
          "text": [
            "Epoch 1/40\n",
            "157/157 [==============================] - 9s 59ms/step - loss: 0.6922 - acc: 0.5511 - val_loss: 0.6906 - val_acc: 0.6190\n",
            "Epoch 2/40\n",
            "157/157 [==============================] - 8s 54ms/step - loss: 0.6826 - acc: 0.6418 - val_loss: 0.6450 - val_acc: 0.5674\n",
            "Epoch 3/40\n",
            "157/157 [==============================] - 8s 53ms/step - loss: 0.5969 - acc: 0.7215 - val_loss: 0.5686 - val_acc: 0.7578\n",
            "Epoch 4/40\n",
            "157/157 [==============================] - 8s 54ms/step - loss: 0.5257 - acc: 0.7878 - val_loss: 0.5199 - val_acc: 0.7752\n",
            "Epoch 5/40\n",
            "157/157 [==============================] - 9s 54ms/step - loss: 0.4840 - acc: 0.8089 - val_loss: 0.4860 - val_acc: 0.7912\n",
            "Epoch 6/40\n",
            "157/157 [==============================] - 8s 53ms/step - loss: 0.4596 - acc: 0.8137 - val_loss: 0.5352 - val_acc: 0.7398\n",
            "Epoch 7/40\n",
            "157/157 [==============================] - 8s 54ms/step - loss: 0.4192 - acc: 0.8330 - val_loss: 0.4685 - val_acc: 0.8142\n",
            "Epoch 8/40\n",
            "157/157 [==============================] - 8s 54ms/step - loss: 0.4020 - acc: 0.8406 - val_loss: 0.4208 - val_acc: 0.8212\n",
            "Epoch 9/40\n",
            "157/157 [==============================] - 9s 54ms/step - loss: 0.3672 - acc: 0.8587 - val_loss: 0.4002 - val_acc: 0.8402\n",
            "Epoch 10/40\n",
            "157/157 [==============================] - 8s 53ms/step - loss: 0.3488 - acc: 0.8712 - val_loss: 0.4228 - val_acc: 0.8314\n",
            "Epoch 11/40\n",
            "157/157 [==============================] - 8s 53ms/step - loss: 0.3306 - acc: 0.8765 - val_loss: 0.3738 - val_acc: 0.8412\n",
            "Epoch 12/40\n",
            "157/157 [==============================] - 9s 55ms/step - loss: 0.3025 - acc: 0.8906 - val_loss: 0.3588 - val_acc: 0.8582\n",
            "Epoch 13/40\n",
            "157/157 [==============================] - 8s 53ms/step - loss: 0.2824 - acc: 0.9011 - val_loss: 0.3298 - val_acc: 0.8668\n",
            "Epoch 14/40\n",
            "157/157 [==============================] - 8s 53ms/step - loss: 0.2546 - acc: 0.9129 - val_loss: 0.3384 - val_acc: 0.8550\n",
            "Epoch 15/40\n",
            "157/157 [==============================] - 8s 54ms/step - loss: 0.2400 - acc: 0.9198 - val_loss: 0.3336 - val_acc: 0.8662\n",
            "Epoch 16/40\n",
            "157/157 [==============================] - 8s 53ms/step - loss: 0.2232 - acc: 0.9268 - val_loss: 0.3071 - val_acc: 0.8758\n",
            "Epoch 17/40\n",
            "157/157 [==============================] - 9s 54ms/step - loss: 0.2076 - acc: 0.9327 - val_loss: 0.3036 - val_acc: 0.8762\n",
            "Epoch 18/40\n",
            "157/157 [==============================] - 9s 55ms/step - loss: 0.1944 - acc: 0.9370 - val_loss: 0.2913 - val_acc: 0.8824\n",
            "Epoch 19/40\n",
            "157/157 [==============================] - 8s 53ms/step - loss: 0.1784 - acc: 0.9451 - val_loss: 0.3331 - val_acc: 0.8662\n",
            "Epoch 20/40\n",
            "157/157 [==============================] - 8s 53ms/step - loss: 0.1686 - acc: 0.9467 - val_loss: 0.2993 - val_acc: 0.8844\n",
            "Epoch 21/40\n",
            "157/157 [==============================] - 9s 55ms/step - loss: 0.1580 - acc: 0.9503 - val_loss: 0.3134 - val_acc: 0.8792\n",
            "782/782 [==============================] - 12s 16ms/step - loss: 0.3194 - acc: 0.8680\n"
          ],
          "name": "stdout"
        }
      ]
    },
    {
      "cell_type": "code",
      "metadata": {
        "colab": {
          "base_uri": "https://localhost:8080/"
        },
        "id": "XfSURgjP2UoS",
        "outputId": "7c1dfe97-64bd-4b2a-8707-09428f1356c5"
      },
      "source": [
        "acc = history.history['acc']\r\n",
        "val_acc = history.history['val_acc']\r\n",
        "loss = history.history['loss']\r\n",
        "val_loss = history.history['val_loss']\r\n",
        "\r\n",
        "epochs = range(len(acc))\r\n",
        "\r\n",
        "plt.plot(epochs, acc, 'bo', label='Training acc')\r\n",
        "plt.plot(epochs, val_acc, 'b', label='Validation acc')\r\n",
        "plt.title('Training and validation accuracy')\r\n",
        "plt.legend()\r\n",
        "\r\n",
        "plt.figure()\r\n",
        "\r\n",
        "plt.plot(epochs, loss, 'bo', label='Training loss')\r\n",
        "plt.plot(epochs, val_loss, 'b', label='Validation loss')\r\n",
        "plt.title('Training and validation loss')\r\n",
        "plt.legend()\r\n",
        "\r\n",
        "plt.show()"
      ],
      "execution_count": null,
      "outputs": [
        {
          "output_type": "display_data",
          "data": {
            "image/png": "[encoded data removed]",
            "text/plain": [
              "<Figure size 432x288 with 1 Axes>"
            ]
          },
          "metadata": {
            "tags": [],
            "needs_background": "light"
          }
        },
        {
          "output_type": "display_data",
          "data": {
            "image/png": "[encoded data removed]",
            "text/plain": [
              "<Figure size 432x288 with 1 Axes>"
            ]
          },
          "metadata": {
            "tags": [],
            "needs_background": "light"
          }
        }
      ]
    },
    {
      "cell_type": "markdown",
      "metadata": {
        "id": "P9rEHe26L-4V"
      },
      "source": [
        "##Större LSTM"
      ]
    },
    {
      "cell_type": "code",
      "metadata": {
        "colab": {
          "base_uri": "https://localhost:8080/"
        },
        "id": "LXCPF7q6MCaI",
        "outputId": "29fc7005-1665-4766-c273-c42345bb261e"
      },
      "source": [
        "import tensorflow as tf\r\n",
        "\r\n",
        "model = tf.keras.Sequential([\r\n",
        "  tf.keras.layers.Embedding(max_features, 32),\r\n",
        "  tf.keras.layers.Bidirectional(tf.keras.layers.LSTM(64, return_sequences=True)), #Wrappa LSTM cellen i en bidirectional cell\r\n",
        "  tf.keras.layers.Bidirectional(tf.keras.layers.LSTM(32)),\r\n",
        "  tf.keras.layers.Dense(64, activation=\"relu\"),\r\n",
        "  tf.keras.layers.Dense(1, activation=\"sigmoid\")\r\n",
        "])\r\n",
        "\r\n",
        "model.compile(optimizer='rmsprop',\r\n",
        "              loss='binary_crossentropy',\r\n",
        "              metrics=['acc'])\r\n",
        "\r\n",
        "model.optimizer.lr = 0.0001 ##Learning rate\r\n",
        "history = model.fit(input_train, y_train,\r\n",
        "                    epochs=EPOCHS,\r\n",
        "                    batch_size=128,\r\n",
        "                    validation_split=0.2,\r\n",
        "                    callbacks=[earlystop])\r\n",
        "\r\n",
        "models_performance[\"Larger LSTM\"]=model.evaluate(input_test, y_test)"
      ],
      "execution_count": null,
      "outputs": [
        {
          "output_type": "stream",
          "text": [
            "Epoch 1/40\n",
            "157/157 [==============================] - 17s 106ms/step - loss: 0.6824 - acc: 0.5831 - val_loss: 0.6321 - val_acc: 0.6754\n",
            "Epoch 2/40\n",
            "157/157 [==============================] - 16s 100ms/step - loss: 0.4867 - acc: 0.7840 - val_loss: 0.4039 - val_acc: 0.8230\n",
            "Epoch 3/40\n",
            "157/157 [==============================] - 16s 102ms/step - loss: 0.3511 - acc: 0.8543 - val_loss: 0.4294 - val_acc: 0.8108\n",
            "Epoch 4/40\n",
            "157/157 [==============================] - 16s 100ms/step - loss: 0.2799 - acc: 0.8900 - val_loss: 0.3152 - val_acc: 0.8676\n",
            "Epoch 5/40\n",
            "157/157 [==============================] - 16s 101ms/step - loss: 0.2270 - acc: 0.9141 - val_loss: 0.3836 - val_acc: 0.8354\n",
            "Epoch 6/40\n",
            "157/157 [==============================] - 16s 101ms/step - loss: 0.1899 - acc: 0.9306 - val_loss: 0.2901 - val_acc: 0.8848\n",
            "Epoch 7/40\n",
            "157/157 [==============================] - 16s 101ms/step - loss: 0.1602 - acc: 0.9410 - val_loss: 0.4417 - val_acc: 0.8446\n",
            "Epoch 8/40\n",
            "157/157 [==============================] - 16s 102ms/step - loss: 0.1373 - acc: 0.9510 - val_loss: 0.2864 - val_acc: 0.8896\n",
            "Epoch 9/40\n",
            "157/157 [==============================] - 16s 101ms/step - loss: 0.1182 - acc: 0.9606 - val_loss: 0.3180 - val_acc: 0.8920\n",
            "Epoch 10/40\n",
            "157/157 [==============================] - 16s 101ms/step - loss: 0.1022 - acc: 0.9658 - val_loss: 0.3144 - val_acc: 0.8908\n",
            "Epoch 11/40\n",
            "157/157 [==============================] - 16s 102ms/step - loss: 0.0879 - acc: 0.9700 - val_loss: 0.4166 - val_acc: 0.8716\n",
            "782/782 [==============================] - 23s 29ms/step - loss: 0.3107 - acc: 0.8743\n"
          ],
          "name": "stdout"
        }
      ]
    },
    {
      "cell_type": "code",
      "metadata": {
        "colab": {
          "base_uri": "https://localhost:8080/",
          "height": 545
        },
        "id": "CQFOU6-VM59M",
        "outputId": "02d977ee-2cba-439f-8e67-6d21d74c0170"
      },
      "source": [
        "acc = history.history['acc']\r\n",
        "val_acc = history.history['val_acc']\r\n",
        "loss = history.history['loss']\r\n",
        "val_loss = history.history['val_loss']\r\n",
        "\r\n",
        "epochs = range(len(acc))\r\n",
        "\r\n",
        "plt.plot(epochs, acc, 'bo', label='Training acc')\r\n",
        "plt.plot(epochs, val_acc, 'b', label='Validation acc')\r\n",
        "plt.title('Training and validation accuracy')\r\n",
        "plt.legend()\r\n",
        "\r\n",
        "plt.figure()\r\n",
        "\r\n",
        "plt.plot(epochs, loss, 'bo', label='Training loss')\r\n",
        "plt.plot(epochs, val_loss, 'b', label='Validation loss')\r\n",
        "plt.title('Training and validation loss')\r\n",
        "plt.legend()\r\n",
        "\r\n",
        "plt.show()"
      ],
      "execution_count": null,
      "outputs": [
        {
          "output_type": "display_data",
          "data": {
            "image/png": "[encoded data removed]",
            "text/plain": [
              "<Figure size 432x288 with 1 Axes>"
            ]
          },
          "metadata": {
            "tags": [],
            "needs_background": "light"
          }
        },
        {
          "output_type": "display_data",
          "data": {
            "image/png": "[encoded data removed]",
            "text/plain": [
              "<Figure size 432x288 with 1 Axes>"
            ]
          },
          "metadata": {
            "tags": [],
            "needs_background": "light"
          }
        }
      ]
    },
    {
      "cell_type": "markdown",
      "metadata": {
        "id": "g6BIcG8Mnxew"
      },
      "source": [
        "##Jämför resultaten mot varandra"
      ]
    },
    {
      "cell_type": "code",
      "metadata": {
        "colab": {
          "base_uri": "https://localhost:8080/"
        },
        "id": "Xt7SFl7skYuP",
        "outputId": "cf531b6b-557b-419d-927d-c33e8833540a"
      },
      "source": [
        "for key in models_performance:\r\n",
        "  print(\"------------------\")\r\n",
        "  print(\"Model name: \",key)\r\n",
        "  print(\"Model performance: %.3f\" % models_performance[key][1])\r\n",
        "  print(\"------------------\\n\")\r\n"
      ],
      "execution_count": null,
      "outputs": [
        {
          "output_type": "stream",
          "text": [
            "------------------\n",
            "Model name:  Simple RNN\n",
            "Model performance: 0.838\n",
            "------------------\n",
            "\n",
            "------------------\n",
            "Model name:  LSTM(32)\n",
            "Model performance: 0.875\n",
            "------------------\n",
            "\n",
            "------------------\n",
            "Model name:  LSTM(128)\n",
            "Model performance: 0.880\n",
            "------------------\n",
            "\n",
            "------------------\n",
            "Model name:  Bidirectional LSTM(32)\n",
            "Model performance: 0.868\n",
            "------------------\n",
            "\n",
            "------------------\n",
            "Model name:  Larger LSTM\n",
            "Model performance: 0.874\n",
            "------------------\n",
            "\n"
          ],
          "name": "stdout"
        }
      ]
    },
    {
      "cell_type": "markdown",
      "metadata": {
        "id": "QZ_6z57ZCRmQ"
      },
      "source": [
        "##Testa på nya meningar"
      ]
    },
    {
      "cell_type": "code",
      "metadata": {
        "id": "DlNjN-wZShKp"
      },
      "source": [
        "test_sentences = [\r\n",
        "  \"That movie was absolutely awful\",\r\n",
        "  \"The acting was a bit lacking\",\r\n",
        "  \"The film was creative and surprising\",\r\n",
        "  \"Absolutely fantastic!\",\r\n",
        "  \"This movie is not worth the money\",\r\n",
        "  \"The only positive thing with this movie is the music\",\r\n",
        "]"
      ],
      "execution_count": null,
      "outputs": []
    },
    {
      "cell_type": "code",
      "metadata": {
        "id": "Vhax60eTlYEz"
      },
      "source": [
        "#städa upp datan från spec tecken och stora bokstäver\r\n",
        "i = 0\r\n",
        "for sentence in test_sentences:\r\n",
        "  test_sentences[i] = sentence.lower().replace('!', '')\r\n",
        "  i = i+1"
      ],
      "execution_count": null,
      "outputs": []
    },
    {
      "cell_type": "code",
      "metadata": {
        "id": "OU-txcKTRQzv",
        "colab": {
          "base_uri": "https://localhost:8080/"
        },
        "outputId": "fc3b59b3-ce7e-4532-b13a-02acef8bbf5d"
      },
      "source": [
        "from keras.datasets import imdb\r\n",
        "\r\n",
        "#Hämta imdb datats word index för att slå upp orden\r\n",
        "word_to_id = imdb.get_word_index()"
      ],
      "execution_count": null,
      "outputs": [
        {
          "output_type": "stream",
          "text": [
            "Downloading data from https://storage.googleapis.com/tensorflow/tf-keras-datasets/imdb_word_index.json\n",
            "1646592/1641221 [==============================] - 0s 0us/step\n"
          ],
          "name": "stdout"
        }
      ]
    },
    {
      "cell_type": "markdown",
      "metadata": {
        "id": "KJeeXv-lHHgN"
      },
      "source": [
        "Nu måste vi mappa alla ord i test meningarna till deras respektiva kodning i IMDB datasetet för att kunna göra predictions på dem."
      ]
    },
    {
      "cell_type": "code",
      "metadata": {
        "colab": {
          "base_uri": "https://localhost:8080/"
        },
        "id": "4OSL47JJR7o2",
        "outputId": "cfa9243b-517c-47d4-d203-f781da092455"
      },
      "source": [
        "import numpy as np\r\n",
        "import nltk\r\n",
        "\r\n",
        "nltk.download('punkt')\r\n",
        "from nltk.tokenize import word_tokenize\r\n",
        "\r\n",
        "\r\n",
        "#Mappa alla ord i de nya meningarna mot deras respektive kodning i imdb setet\r\n",
        "test_lines_encoded = list()\r\n",
        "for review in test_sentences:\r\n",
        "  word_list = []\r\n",
        "  tokenized_words = word_tokenize(review)\r\n",
        "  for word in tokenized_words:\r\n",
        "    word_list.append(word_to_id[word])\r\n",
        "\r\n",
        "  test_lines_encoded.append(word_list)\r\n",
        "\r\n",
        "\r\n",
        "arr = np.array(test_lines_encoded)\r\n",
        "arr = sequence.pad_sequences(arr, maxlen=maxlen)\r\n",
        "\r\n",
        "print(arr.shape)"
      ],
      "execution_count": null,
      "outputs": [
        {
          "output_type": "stream",
          "text": [
            "[nltk_data] Downloading package punkt to /root/nltk_data...\n",
            "[nltk_data]   Unzipping tokenizers/punkt.zip.\n",
            "(6, 500)\n"
          ],
          "name": "stdout"
        }
      ]
    },
    {
      "cell_type": "markdown",
      "metadata": {
        "id": "eYqhxFO2HSgU"
      },
      "source": [
        "Utför predictions på det nya datat"
      ]
    },
    {
      "cell_type": "code",
      "metadata": {
        "colab": {
          "base_uri": "https://localhost:8080/"
        },
        "id": "d5avlqYc62y4",
        "outputId": "e6ad80bf-e358-461f-b8f4-0fe3b14d2b10"
      },
      "source": [
        "predictions = model.predict(arr)\r\n",
        "print(predictions)\r\n",
        "\r\n",
        "i = 0\r\n",
        "for prediction in predictions:\r\n",
        "  if(prediction >0.5):\r\n",
        "    print(test_sentences[i], \"---> Was predicted as positive   \" , prediction, \"\\n\" )\r\n",
        "  else:\r\n",
        "    print(test_sentences[i], \"---> Was predicted as negative   \" , prediction, \"\\n\" )\r\n",
        "\r\n",
        "  i = i+1"
      ],
      "execution_count": null,
      "outputs": [
        {
          "output_type": "stream",
          "text": [
            "[[0.78217566]\n",
            " [0.8906045 ]\n",
            " [0.8275325 ]\n",
            " [0.86247164]\n",
            " [0.8987372 ]\n",
            " [0.6247293 ]]\n",
            "that movie was absolutely awful ---> Was predicted as positive    [0.78217566] \n",
            "\n",
            "the acting was a bit lacking ---> Was predicted as positive    [0.8906045] \n",
            "\n",
            "the film was creative and surprising ---> Was predicted as positive    [0.8275325] \n",
            "\n",
            "absolutely fantastic ---> Was predicted as positive    [0.86247164] \n",
            "\n",
            "this movie is not worth the money ---> Was predicted as positive    [0.8987372] \n",
            "\n",
            "the only positive thing with this movie is the music ---> Was predicted as positive    [0.6247293] \n",
            "\n"
          ],
          "name": "stdout"
        }
      ]
    },
    {
      "cell_type": "markdown",
      "metadata": {
        "id": "At9GQKNgFc4N"
      },
      "source": [
        "Jag vet inte om det är något fel på prediction modellen eller om jag matar in felaktig data men den verkar väldigt dålig på att predicta positiv/negativ på ny data. Detta kan man tänka sig beror på att dessa nya reviews är mycket kortare än de som modellen tränat på. Men jag har även testat en lång positiv review tagen direkt ur test setet, vilken predictas (0.09) alltså negativt med stor sannolikhet. Jag är lite konfunderad i detta lag. Inte fått något svar angående detta på forumet eller från lärare så den får vara såhär nu helt enkelt.\r\n",
        "\r\n",
        "Vidare är det väldigt olika predictions varje gång man tränar om modellen, ena gången kan den predicta alla som positiva och andra gången alla som negativa...\r\n"
      ]
    }
  ]
}